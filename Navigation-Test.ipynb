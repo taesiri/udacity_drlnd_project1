{
 "cells": [
  {
   "cell_type": "markdown",
   "metadata": {},
   "source": [
    "# Navigation - Test\n",
    "\n",
    "---\n",
    "For Testing and visualizing the Trained Agents\n",
    "\n",
    "### 1. Start the Environment\n",
    "\n",
    "We begin by importing some necessary packages.  If the code cell below returns an error, please revisit the project instructions to double-check that you have installed [Unity ML-Agents](https://github.com/Unity-Technologies/ml-agents/blob/master/docs/Installation.md) and [NumPy](http://www.numpy.org/)."
   ]
  },
  {
   "cell_type": "code",
   "execution_count": 1,
   "metadata": {},
   "outputs": [],
   "source": [
    "from unityagents import UnityEnvironment\n",
    "import numpy as np"
   ]
  },
  {
   "cell_type": "markdown",
   "metadata": {},
   "source": [
    "Next, we will start the environment!  **_Before running the code cell below_**, change the `file_name` parameter to match the location of the Unity environment that you downloaded.\n",
    "\n",
    "- **Mac**: `\"path/to/Banana.app\"`\n",
    "- **Windows** (x86): `\"path/to/Banana_Windows_x86/Banana.exe\"`\n",
    "- **Windows** (x86_64): `\"path/to/Banana_Windows_x86_64/Banana.exe\"`\n",
    "- **Linux** (x86): `\"path/to/Banana_Linux/Banana.x86\"`\n",
    "- **Linux** (x86_64): `\"path/to/Banana_Linux/Banana.x86_64\"`\n",
    "- **Linux** (x86, headless): `\"path/to/Banana_Linux_NoVis/Banana.x86\"`\n",
    "- **Linux** (x86_64, headless): `\"path/to/Banana_Linux_NoVis/Banana.x86_64\"`\n",
    "\n",
    "For instance, if you are using a Mac, then you downloaded `Banana.app`.  If this file is in the same folder as the notebook, then the line below should appear as follows:\n",
    "```\n",
    "env = UnityEnvironment(file_name=\"Banana.app\")\n",
    "```"
   ]
  },
  {
   "cell_type": "code",
   "execution_count": 2,
   "metadata": {},
   "outputs": [
    {
     "name": "stderr",
     "output_type": "stream",
     "text": [
      "INFO:unityagents:\n",
      "'Academy' started successfully!\n",
      "Unity Academy name: Academy\n",
      "        Number of Brains: 1\n",
      "        Number of External Brains : 1\n",
      "        Lesson number : 0\n",
      "        Reset Parameters :\n",
      "\t\t\n",
      "Unity brain name: BananaBrain\n",
      "        Number of Visual Observations (per agent): 0\n",
      "        Vector Observation space type: continuous\n",
      "        Vector Observation space size (per agent): 37\n",
      "        Number of stacked Vector Observation: 1\n",
      "        Vector Action space type: discrete\n",
      "        Vector Action space size (per agent): 4\n",
      "        Vector Action descriptions: , , , \n"
     ]
    }
   ],
   "source": [
    "env = UnityEnvironment(file_name=\"Banana_Linux/Banana.x86_64\")"
   ]
  },
  {
   "cell_type": "markdown",
   "metadata": {},
   "source": [
    "Environments contain **_brains_** which are responsible for deciding the actions of their associated agents. Here we check for the first brain available, and set it as the default brain we will be controlling from Python."
   ]
  },
  {
   "cell_type": "code",
   "execution_count": 3,
   "metadata": {},
   "outputs": [
    {
     "data": {
      "text/plain": [
       "['BananaBrain']"
      ]
     },
     "execution_count": 3,
     "metadata": {},
     "output_type": "execute_result"
    }
   ],
   "source": [
    "env.brain_names"
   ]
  },
  {
   "cell_type": "code",
   "execution_count": 4,
   "metadata": {},
   "outputs": [],
   "source": [
    "# get the default brain\n",
    "brain_name = env.brain_names[0]\n",
    "brain = env.brains[brain_name]"
   ]
  },
  {
   "cell_type": "markdown",
   "metadata": {},
   "source": [
    "### 2. Examine the State and Action Spaces\n",
    "\n",
    "The simulation contains a single agent that navigates a large environment.  At each time step, it has four actions at its disposal:\n",
    "- `0` - walk forward \n",
    "- `1` - walk backward\n",
    "- `2` - turn left\n",
    "- `3` - turn right\n",
    "\n",
    "The state space has `37` dimensions and contains the agent's velocity, along with ray-based perception of objects around agent's forward direction.  A reward of `+1` is provided for collecting a yellow banana, and a reward of `-1` is provided for collecting a blue banana. \n",
    "\n",
    "Run the code cell below to print some information about the environment."
   ]
  },
  {
   "cell_type": "code",
   "execution_count": 5,
   "metadata": {},
   "outputs": [
    {
     "name": "stdout",
     "output_type": "stream",
     "text": [
      "Number of agents: 1\n",
      "Number of actions: 4\n",
      "States look like: [1.         0.         0.         0.         0.84408134 0.\n",
      " 0.         1.         0.         0.0748472  0.         1.\n",
      " 0.         0.         0.25755    1.         0.         0.\n",
      " 0.         0.74177343 0.         1.         0.         0.\n",
      " 0.25854847 0.         0.         1.         0.         0.09355672\n",
      " 0.         1.         0.         0.         0.31969345 0.\n",
      " 0.        ]\n",
      "States have length: 37\n"
     ]
    }
   ],
   "source": [
    "# reset the environment\n",
    "env_info = env.reset(train_mode=True)[brain_name]\n",
    "\n",
    "# number of agents in the environment\n",
    "print('Number of agents:', len(env_info.agents))\n",
    "\n",
    "# number of actions\n",
    "action_size = brain.vector_action_space_size\n",
    "print('Number of actions:', action_size)\n",
    "\n",
    "# examine the state space \n",
    "state = env_info.vector_observations[0]\n",
    "print('States look like:', state)\n",
    "state_size = len(state)\n",
    "print('States have length:', state_size)"
   ]
  },
  {
   "cell_type": "markdown",
   "metadata": {},
   "source": [
    "### 3. Run The Agents"
   ]
  },
  {
   "cell_type": "code",
   "execution_count": 6,
   "metadata": {},
   "outputs": [],
   "source": [
    "import gym\n",
    "\n",
    "import random\n",
    "import torch\n",
    "import numpy as np\n",
    "from collections import deque\n",
    "import seaborn as sns\n",
    "import matplotlib.pyplot as plt\n",
    "%matplotlib inline"
   ]
  },
  {
   "cell_type": "code",
   "execution_count": 7,
   "metadata": {},
   "outputs": [],
   "source": [
    "from brains import FullyConnectedBrain\n",
    "from brains import DuelingFullyConnectedBrain\n",
    "from agents import QAgentGeneric"
   ]
  },
  {
   "cell_type": "code",
   "execution_count": 8,
   "metadata": {},
   "outputs": [],
   "source": [
    "device = torch.device(\"cuda:0\" if torch.cuda.is_available() else \"cpu\")"
   ]
  },
  {
   "cell_type": "markdown",
   "metadata": {},
   "source": [
    "### Plotting"
   ]
  },
  {
   "cell_type": "code",
   "execution_count": 9,
   "metadata": {},
   "outputs": [],
   "source": [
    "def plot_scores(scores, score_label=\"Average Score (100 Steps)\", N = 25, plot_title=\"\"):\n",
    "  \"\"\"Plot Scores with Moving Average\n",
    "  \n",
    "  Params\n",
    "    ======\n",
    "        scores (list): list of scores\n",
    "        score_label (str): label for scores graph\n",
    "        N (int): moving average window size\n",
    "        plot_title (str): title of the plot\n",
    "  \"\"\"\n",
    "  sns.set(style='whitegrid', context='notebook', palette='icefire')\n",
    "  \n",
    " \n",
    "  moving_average = np.convolve(scores, np.ones((N,))/N, mode='valid')\n",
    "\n",
    "  fig = plt.figure(figsize=(12, 8))\n",
    "  ax = fig.add_subplot(111)\n",
    "  plt.plot(np.arange(len(scores)), scores, label=score_label)\n",
    "  plt.plot(np.arange(len(moving_average))+(N/2), moving_average, linestyle='--', label=\"Moving Average\")\n",
    "  plt.ylabel('Score')\n",
    "  plt.xlabel('Episode #')\n",
    "  plt.axhline(y=0, color='r', linestyle='-.', label=\"ZERO\")\n",
    "  plt.axhline(y=13, color='green', linestyle='-.', label=\"Weakly Solved Threshold\")\n",
    "  plt.axhline(y=17, color='gold' , linestyle='-.', label=\"Advanced Solved Threshold\")\n",
    "  plt.legend(loc='lower center', bbox_to_anchor=(0.5, -0.25), ncol=3)\n",
    "  plt.title(plot_title)\n",
    "  plt.show()"
   ]
  },
  {
   "cell_type": "code",
   "execution_count": 10,
   "metadata": {},
   "outputs": [],
   "source": [
    "def plot_average_scores(list_of_scores, labels, N = 25, plot_title=\"\"):\n",
    "  \"\"\"Plot Average Scores for Multiple Algorithms\n",
    "  \n",
    "  Params\n",
    "  ======\n",
    "        list_of_scores (list): list of list of scores!\n",
    "        labels (list): list of labels corresponding to each score\n",
    "        N (int): moving average window size\n",
    "        plot_title (str): title of the plot\n",
    "  \"\"\"\n",
    "  sns.set(style='whitegrid', context='notebook', palette='nipy_spectral')\n",
    "  fig = plt.figure(figsize=(12, 8))\n",
    "  ax = fig.add_subplot(111)\n",
    "  \n",
    "  for i, scores in enumerate(list_of_scores):\n",
    "    moving_average = np.convolve(scores, np.ones((N,))/N, mode='valid')\n",
    "    plt.plot(np.arange(len(moving_average))+(N/2), moving_average, label=labels[i])\n",
    "    \n",
    "  plt.axhline(y=0, color='r', linestyle='-.', label=\"ZERO\")\n",
    "  plt.axhline(y=13, color='green', linestyle='-.', label=\"Weakly Solved Threshold\")\n",
    "  plt.axhline(y=17, color='gold' , linestyle='-.', label=\"Advanced Solved Threshold\")\n",
    "  plt.ylabel('Score')\n",
    "  plt.xlabel('Episode #')\n",
    "  plt.legend(loc='lower center', bbox_to_anchor=(0.5, -0.25), ncol=3)\n",
    "  plt.title(plot_title)\n",
    "  plt.show()"
   ]
  },
  {
   "cell_type": "markdown",
   "metadata": {},
   "source": [
    "### Runner"
   ]
  },
  {
   "cell_type": "code",
   "execution_count": 11,
   "metadata": {},
   "outputs": [],
   "source": [
    "def dqn(agent, n_episodes=1000, max_t=1000, eps_start=1.0, eps_end=0.01, eps_decay=0.995, quiet=False, save_solved=True, checkpoint_name='checkpoint', min_best = 15, save_best=False):\n",
    "    \"\"\"Deep Q-Learning.\n",
    "    \n",
    "    Params\n",
    "    ======\n",
    "        n_episodes (int): maximum number of training episodes\n",
    "        max_t (int): maximum number of timesteps per episode\n",
    "        eps_start (float): starting value of epsilon, for epsilon-greedy action selection\n",
    "        eps_end (float): minimum value of epsilon\n",
    "        eps_decay (float): multiplicative factor (per episode) for decreasing epsilon\n",
    "    \"\"\"\n",
    "    scores = []                                           # list containing scores from each episode\n",
    "    scores_window = deque(maxlen=100)                     # last 100 scores\n",
    "    eps = eps_start                                       # initialize epsilon\n",
    "    last_best = min_best\n",
    "    for i_episode in range(1, n_episodes+1):\n",
    "        env_info = env.reset(train_mode=True)[brain_name]  # reset the environment\n",
    "        state = env_info.vector_observations[0]            # get the current state\n",
    "        score = 0                                          # initialize the score\n",
    "        \n",
    "        for t in range(max_t):\n",
    "            action = agent.act(state, eps)\n",
    "            env_info = env.step(action)[brain_name]        # send the action to the environment\n",
    "            next_state = env_info.vector_observations[0]   # get the next state\n",
    "            reward = env_info.rewards[0]                   # get the reward\n",
    "            done = env_info.local_done[0]                  # see if episode has finished\n",
    "            agent.step(state, action, reward, next_state, done) # UPDATE THE NETWORK\n",
    "            state = next_state                             # roll over the state to next time step\n",
    "            score += reward                                # update the score\n",
    "            if done:\n",
    "                break\n",
    "        scores_window.append(score)                        # save most recent score\n",
    "        scores.append(score)                               # save most recent score\n",
    "        eps = max(eps_end, eps_decay*eps)                  # decrease epsilon\n",
    "        print('\\rEpisode {}\\tAverage Score: {:.2f}'.format(i_episode, np.mean(scores_window)), end=\"\")\n",
    "        if i_episode % 100 == 0:\n",
    "            if not quiet: print('\\rEpisode {}\\tAverage Score: {:.2f}'.format(i_episode, np.mean(scores_window)))\n",
    "        \n",
    "        average_score = np.mean(scores_window)\n",
    "        if save_solved and average_score>=20.0:\n",
    "          if not quiet: print('\\nEnvironment solved in {:d} episodes!\\tAverage Score: {:.2f}'.format(i_episode-100, np.mean(scores_window)))\n",
    "          torch.save(agent.qnetwork_local.state_dict(), f'trained_agents/{checkpoint_name}-{i_episode}-solved.pth')\n",
    "        \n",
    "        if save_best and average_score>last_best:\n",
    "          torch.save(agent.qnetwork_local.state_dict(), f'trained_agents/{checkpoint_name}-Best.pth')\n",
    "          if not quiet: print(f'Saved Best with Average Score of {average_score}\\n')\n",
    "          last_best = average_score\n",
    "\n",
    "    return scores"
   ]
  },
  {
   "cell_type": "markdown",
   "metadata": {},
   "source": [
    "### Vanilla DQN"
   ]
  },
  {
   "cell_type": "code",
   "execution_count": 12,
   "metadata": {},
   "outputs": [],
   "source": [
    "lb = FullyConnectedBrain(state_size=37, action_size=4, seed=0, hidden_sizes=[128, 64, 16]).to(device) # Local Network\n",
    "tb = FullyConnectedBrain(state_size=37, action_size=4, seed=0, hidden_sizes=[128, 64, 16]).to(device) # Target Network\n",
    "\n",
    "vanilla_dqn_agent = QAgentGeneric(state_size=37, action_size=4, seed=0, update_rule=\"dqn\", local_brain=lb, target_brain=tb)"
   ]
  },
  {
   "cell_type": "markdown",
   "metadata": {},
   "source": [
    "### Double DQN"
   ]
  },
  {
   "cell_type": "code",
   "execution_count": 13,
   "metadata": {},
   "outputs": [],
   "source": [
    "lb = FullyConnectedBrain(state_size=37, action_size=4, seed=0, hidden_sizes=[128, 64, 16]).to(device) # Local Network\n",
    "tb = FullyConnectedBrain(state_size=37, action_size=4, seed=0, hidden_sizes=[128, 64, 16]).to(device) # Target Network\n",
    "\n",
    "double_dqn_agent = QAgentGeneric(state_size=37, action_size=4, seed=0, update_rule=\"double_dqn\", local_brain=lb, target_brain=tb)"
   ]
  },
  {
   "cell_type": "markdown",
   "metadata": {},
   "source": [
    "### Dueling DQN (Vanilla)"
   ]
  },
  {
   "cell_type": "code",
   "execution_count": 14,
   "metadata": {},
   "outputs": [],
   "source": [
    "lb = DuelingFullyConnectedBrain(state_size=37, action_size=4, seed=0, shared_hidden = [128, 64, 16], value_head=[32, 16], advantage_head=[32, 32]).to(device)  # Local Network\n",
    "tb = DuelingFullyConnectedBrain(state_size=37, action_size=4, seed=0, shared_hidden = [128, 64, 16], value_head=[32, 16], advantage_head=[32, 32]).to(device)  # Target Network\n",
    "\n",
    "dueling_dqn_agent = QAgentGeneric(state_size=37, action_size=4, seed=0, update_rule=\"dqn\", local_brain=lb, target_brain=tb)"
   ]
  },
  {
   "cell_type": "markdown",
   "metadata": {},
   "source": [
    "### Dueling Double DQN"
   ]
  },
  {
   "cell_type": "code",
   "execution_count": 15,
   "metadata": {},
   "outputs": [],
   "source": [
    "lb = DuelingFullyConnectedBrain(state_size=37, action_size=4, seed=0, shared_hidden = [128, 64, 16], value_head=[32, 16], advantage_head=[32, 32]).to(device)  # Local Network\n",
    "tb = DuelingFullyConnectedBrain(state_size=37, action_size=4, seed=0, shared_hidden = [128, 64, 16], value_head=[32, 16], advantage_head=[32, 32]).to(device)  # Target Network\n",
    "\n",
    "dueling_dobule_agent = QAgentGeneric(state_size=37, action_size=4, seed=0, update_rule=\"double_dqn\", local_brain=lb, target_brain=tb)"
   ]
  },
  {
   "cell_type": "markdown",
   "metadata": {},
   "source": [
    "### Testing our Trained Agent"
   ]
  },
  {
   "cell_type": "code",
   "execution_count": 16,
   "metadata": {},
   "outputs": [],
   "source": [
    "def load_agent(index):\n",
    "  \"\"\"returns the selected agent, with best weights\"\"\"\n",
    "  available_agents = [vanilla_dqn_agent, double_dqn_agent, dueling_dqn_agent, dueling_dobule_agent]\n",
    "  best_weights = ['dqn_vanilla-Best.pth', 'double_dqn-Best.pth', 'dueling_dqn-Best.pth', 'dueling_double_dqn-Best.pth']\n",
    "  \n",
    "  available_agents[index].qnetwork_local.load_state_dict(torch.load(f'trained_agents/{best_weights[index]}'))\n",
    "\n",
    "  return available_agents[index]"
   ]
  },
  {
   "cell_type": "code",
   "execution_count": 23,
   "metadata": {},
   "outputs": [],
   "source": [
    "def run_agent(agent, N=100):\n",
    "  \"\"\"runs the env with selected agent \"\"\"\n",
    "  env_info = env.reset(train_mode=False)[brain_name]  # reset the environment\n",
    "  state = env_info.vector_observations[0]             # get the current state\n",
    "  score = 0                                           # initialize the score\n",
    "  \n",
    "  for j in range(N):\n",
    "    action = int(agent.act(state))\n",
    "    env_info = env.step(action)[brain_name]           # send the action to the environment\n",
    "    next_state = env_info.vector_observations[0]      # get the next state\n",
    "    reward = env_info.rewards[0]                      # get the reward\n",
    "    done = env_info.local_done[0]                     # see if episode has finished\n",
    "    score += reward                                   # update the score\n",
    "    state = next_state                                # roll over the state to next time step\n",
    "\n",
    "    if done:\n",
    "      break\n",
    "      \n",
    "  return score"
   ]
  },
  {
   "cell_type": "code",
   "execution_count": 25,
   "metadata": {},
   "outputs": [
    {
     "name": "stdout",
     "output_type": "stream",
     "text": [
      "8.0\n"
     ]
    }
   ],
   "source": [
    "# Run DQN with trained Agent, \n",
    "total_score = run_agent(load_agent(3)) \n",
    "\n",
    "print(total_score)"
   ]
  },
  {
   "cell_type": "markdown",
   "metadata": {},
   "source": [
    "### Finished? Turn off the lights and Close the ENV"
   ]
  },
  {
   "cell_type": "code",
   "execution_count": 26,
   "metadata": {},
   "outputs": [],
   "source": [
    "env.close() "
   ]
  }
 ],
 "metadata": {
  "kernelspec": {
   "display_name": "drlnd",
   "language": "python",
   "name": "drlnd"
  },
  "language_info": {
   "codemirror_mode": {
    "name": "ipython",
    "version": 3
   },
   "file_extension": ".py",
   "mimetype": "text/x-python",
   "name": "python",
   "nbconvert_exporter": "python",
   "pygments_lexer": "ipython3",
   "version": "3.6.10"
  }
 },
 "nbformat": 4,
 "nbformat_minor": 4
}
